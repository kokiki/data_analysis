{
 "cells": [
  {
   "cell_type": "markdown",
   "metadata": {
    "id": "HZc219MFFibh"
   },
   "source": [
    "# Keras로 Linear&Logistic Regression 맛보기!\n",
    "\n",
    "### Kaggle Link for exercise :\n",
    "* [Digit Recognizer](https://www.kaggle.com/c/digit-recognizer) : \n",
    "\n",
    "#### 실습목표<br>\n",
    "1. keras의 모델링 아이디어를 이해한다.\n",
    "2. 모든 코드를 이해한다."
   ]
  },
  {
   "cell_type": "markdown",
   "metadata": {
    "id": "dwEdLgZpFibi"
   },
   "source": [
    "## Quick Linear Regression!"
   ]
  },
  {
   "cell_type": "code",
   "execution_count": 2,
   "metadata": {
    "id": "Lbold6iIS8E1"
   },
   "outputs": [],
   "source": [
    "import tensorflow as tf\n",
    "from tensorflow import keras\n",
    "\n",
    "import numpy as np"
   ]
  },
  {
   "cell_type": "code",
   "execution_count": 3,
   "metadata": {
    "id": "QvObzQ1MFibj"
   },
   "outputs": [
    {
     "name": "stdout",
     "output_type": "stream",
     "text": [
      "[ 0  1  2  3  4  5  6  7  8  9 10 11 12 13 14 15 16 17 18 19]\n",
      "[-1  1  3  5  7  9 11 13 15 17 19 21 23 25 27 29 31 33 35 37]\n"
     ]
    }
   ],
   "source": [
    "x = np.array(range(0,20)) \n",
    "y = x * 2 -1\n",
    "\n",
    "print(x)\n",
    "print(y)"
   ]
  },
  {
   "cell_type": "code",
   "execution_count": 4,
   "metadata": {},
   "outputs": [
    {
     "data": {
      "text/plain": [
       "((20,), (20,))"
      ]
     },
     "execution_count": 4,
     "metadata": {},
     "output_type": "execute_result"
    }
   ],
   "source": [
    "x.shape, y.shape"
   ]
  },
  {
   "cell_type": "code",
   "execution_count": 33,
   "metadata": {
    "id": "iUqZACd2IRcn"
   },
   "outputs": [],
   "source": [
    "# 혹시 이미 그려둔 그래프가 있다면 날려줘!\n",
    "keras.backend.clear_session()\n",
    "\n",
    "# 레이어들을 사슬로 연결하 듯이 연결!\n",
    "il = keras.layers.Input(shape=(1,))\n",
    "ol = keras.layers.Dense(1)(il)\n",
    "\n",
    "# 모델의 시작과 끝을 지정\n",
    "model = keras.models.Model(il, ol)\n",
    "\n",
    "# 컴파일 해주렴\n",
    "model.compile(loss = 'mse', optimizer = 'adam')\n",
    "#metrics에서는 선형회귀에서 선언 xxx"
   ]
  },
  {
   "cell_type": "code",
   "execution_count": 34,
   "metadata": {
    "id": "s1UM3mOzLTeb"
   },
   "outputs": [
    {
     "name": "stdout",
     "output_type": "stream",
     "text": [
      "Epoch 1/10\n",
      "1/1 [==============================] - 0s 291ms/step - loss: 503.0535\n",
      "Epoch 2/10\n",
      "1/1 [==============================] - 0s 4ms/step - loss: 502.5368\n",
      "Epoch 3/10\n",
      "1/1 [==============================] - 0s 5ms/step - loss: 502.0203\n",
      "Epoch 4/10\n",
      "1/1 [==============================] - 0s 7ms/step - loss: 501.5042\n",
      "Epoch 5/10\n",
      "1/1 [==============================] - 0s 7ms/step - loss: 500.9883\n",
      "Epoch 6/10\n",
      "1/1 [==============================] - 0s 5ms/step - loss: 500.4727\n",
      "Epoch 7/10\n",
      "1/1 [==============================] - 0s 7ms/step - loss: 499.9575\n",
      "Epoch 8/10\n",
      "1/1 [==============================] - 0s 5ms/step - loss: 499.4426\n",
      "Epoch 9/10\n",
      "1/1 [==============================] - 0s 7ms/step - loss: 498.9279\n",
      "Epoch 10/10\n",
      "1/1 [==============================] - 0s 5ms/step - loss: 498.4137\n"
     ]
    },
    {
     "data": {
      "text/plain": [
       "<keras.callbacks.History at 0x205bdbc4fd0>"
      ]
     },
     "execution_count": 34,
     "metadata": {},
     "output_type": "execute_result"
    }
   ],
   "source": [
    "# 데이터를 넣어서 학습시키자!\n",
    "model.fit(x, y, epochs=10, verbose=1)"
   ]
  },
  {
   "cell_type": "code",
   "execution_count": 7,
   "metadata": {
    "id": "FZH5RHQivTiJ"
   },
   "outputs": [
    {
     "name": "stdout",
     "output_type": "stream",
     "text": [
      "[-1  1  3  5  7  9 11 13 15 17 19 21 23 25 27 29 31 33 35 37]\n",
      "[ 0.00999833 -0.22951284 -0.469024   -0.7085352  -0.9480463  -1.1875575\n",
      " -1.4270687  -1.6665798  -1.906091   -2.1456022  -2.3851132  -2.6246245\n",
      " -2.8641357  -3.1036468  -3.343158   -3.582669   -3.8221803  -4.0616913\n",
      " -4.301203   -4.540714  ]\n"
     ]
    }
   ],
   "source": [
    "# 결과 출력해줘!\n",
    "print(y)\n",
    "print(model.predict(x).reshape(-1,) )"
   ]
  },
  {
   "cell_type": "markdown",
   "metadata": {
    "id": "zvqPQxmgFibo"
   },
   "source": [
    "## Now, Your turn!"
   ]
  },
  {
   "cell_type": "code",
   "execution_count": 14,
   "metadata": {
    "id": "xlxFydqCva9k"
   },
   "outputs": [],
   "source": [
    "import tensorflow as tf\n",
    "from tensorflow import keras\n",
    "\n",
    "import numpy as np"
   ]
  },
  {
   "cell_type": "code",
   "execution_count": 15,
   "metadata": {
    "id": "wIFzEwY2PWpX"
   },
   "outputs": [
    {
     "name": "stdout",
     "output_type": "stream",
     "text": [
      "[ 0  1  2  3  4  5  6  7  8  9 10 11 12 13 14 15 16 17 18 19]\n",
      "[ 10   7   4   1  -2  -5  -8 -11 -14 -17 -20 -23 -26 -29 -32 -35 -38 -41\n",
      " -44 -47]\n"
     ]
    }
   ],
   "source": [
    "x = np.array(range(0,20)) \n",
    "y = x * (-3) + 10\n",
    "\n",
    "print(x)\n",
    "print(y)"
   ]
  },
  {
   "cell_type": "code",
   "execution_count": 22,
   "metadata": {},
   "outputs": [
    {
     "data": {
      "text/plain": [
       "((20,), (20,))"
      ]
     },
     "execution_count": 22,
     "metadata": {},
     "output_type": "execute_result"
    }
   ],
   "source": [
    "x.shape, y.shape"
   ]
  },
  {
   "cell_type": "code",
   "execution_count": 30,
   "metadata": {
    "id": "pNul2_K5PhGi"
   },
   "outputs": [],
   "source": [
    "## Functional API\n",
    "\n",
    "# 1.세션 클리어 \n",
    "keras.backend.clear_session()\n",
    "\n",
    "# 2. 레이어 사슬 연결\n",
    "il = keras.layers.Input(shape=(1,))\n",
    "ol = keras.layers.Dense(1)(il)\n",
    "\n",
    "# 3. 모델의 시작과 끝을 지정 \n",
    "model=keras.models.Model(inputs=input_layer, outputs=output_layer)\n",
    "\n",
    "# 4.컴파일\n",
    "model.compile(loss='mse',optimizer='adam')"
   ]
  },
  {
   "cell_type": "code",
   "execution_count": 31,
   "metadata": {
    "id": "zhr1VsJzQcGI"
   },
   "outputs": [
    {
     "name": "stdout",
     "output_type": "stream",
     "text": [
      "Epoch 1/10\n",
      "1/1 [==============================] - 0s 275ms/step - loss: 199.0551\n",
      "Epoch 2/10\n",
      "1/1 [==============================] - 0s 6ms/step - loss: 198.7467\n",
      "Epoch 3/10\n",
      "1/1 [==============================] - 0s 6ms/step - loss: 198.4386\n",
      "Epoch 4/10\n",
      "1/1 [==============================] - 0s 4ms/step - loss: 198.1308\n",
      "Epoch 5/10\n",
      "1/1 [==============================] - 0s 5ms/step - loss: 197.8233\n",
      "Epoch 6/10\n",
      "1/1 [==============================] - 0s 5ms/step - loss: 197.5161\n",
      "Epoch 7/10\n",
      "1/1 [==============================] - 0s 5ms/step - loss: 197.2092\n",
      "Epoch 8/10\n",
      "1/1 [==============================] - 0s 4ms/step - loss: 196.9027\n",
      "Epoch 9/10\n",
      "1/1 [==============================] - 0s 5ms/step - loss: 196.5965\n",
      "Epoch 10/10\n",
      "1/1 [==============================] - 0s 4ms/step - loss: 196.2906\n"
     ]
    },
    {
     "data": {
      "text/plain": [
       "<keras.callbacks.History at 0x205bdbdc640>"
      ]
     },
     "execution_count": 31,
     "metadata": {},
     "output_type": "execute_result"
    }
   ],
   "source": [
    "model.fit(x,y, epochs=10, verbose=1)"
   ]
  },
  {
   "cell_type": "code",
   "execution_count": 29,
   "metadata": {},
   "outputs": [
    {
     "name": "stdout",
     "output_type": "stream",
     "text": [
      "[ 10   7   4   1  -2  -5  -8 -11 -14 -17 -20 -23 -26 -29 -32 -35 -38 -41\n",
      " -44 -47]\n",
      "[ -0.0199921  -1.0690078  -2.1180234  -3.1670392  -4.2160544  -5.26507\n",
      "  -6.314086   -7.3631015  -8.412117   -9.461133  -10.510148  -11.559164\n",
      " -12.60818   -13.657195  -14.706211  -15.755226  -16.804243  -17.853258\n",
      " -18.902275  -19.95129  ]\n"
     ]
    }
   ],
   "source": [
    "# 결과 출력해줘!\n",
    "print(y)\n",
    "print(model.predict(x).reshape(-1,) )"
   ]
  },
  {
   "cell_type": "markdown",
   "metadata": {
    "id": "CMfaYMFCTz2d"
   },
   "source": [
    "## Quick Logistic Regression!"
   ]
  },
  {
   "cell_type": "code",
   "execution_count": 10,
   "metadata": {
    "id": "OmGKbCiATz2e"
   },
   "outputs": [],
   "source": [
    "import tensorflow as tf\n",
    "from tensorflow import keras\n",
    "\n",
    "import numpy as np"
   ]
  },
  {
   "cell_type": "code",
   "execution_count": 11,
   "metadata": {
    "id": "yzweU4sRTz2g"
   },
   "outputs": [
    {
     "name": "stdout",
     "output_type": "stream",
     "text": [
      "[ 0  1  2  3  4  5  6  7  8  9 10 11 12 13 14 15 16 17 18 19]\n",
      "[0 0 0 0 0 0 0 0 0 0 1 1 1 1 1 1 1 1 1 1]\n"
     ]
    }
   ],
   "source": [
    "x = np.array(range(0,20)) \n",
    "y = np.array([0]*10 + [1]*10)\n",
    "\n",
    "print(x)\n",
    "print(y)"
   ]
  },
  {
   "cell_type": "code",
   "execution_count": 12,
   "metadata": {
    "id": "wiQzDaBzTz2j"
   },
   "outputs": [],
   "source": [
    "# 혹시 이미 그려둔 그래프가 있다면 날려줘!\n",
    "keras.backend.clear_session()\n",
    "\n",
    "# 레이어들을 사슬로 연결하 듯이 연결!\n",
    "input_layer = keras.layers.Input(shape=(1,))\n",
    "output_layer = keras.layers.Dense(1, activation='sigmoid')(input_layer)\n",
    "\n",
    "# 모델의 시작과 끝을 지정\n",
    "model = keras.models.Model(inputs=input_layer, outputs=output_layer)\n",
    "\n",
    "\n",
    "# 컴파일 해주렴\n",
    "model.compile(loss = 'binary_crossentropy', optimizer = 'adam', metrics=['accuracy'])"
   ]
  },
  {
   "cell_type": "code",
   "execution_count": 13,
   "metadata": {
    "id": "b_FXYQ7fTz2l"
   },
   "outputs": [
    {
     "name": "stdout",
     "output_type": "stream",
     "text": [
      "Epoch 1/10\n",
      "1/1 [==============================] - 0s 420ms/step - loss: 6.3281 - accuracy: 0.5000\n",
      "Epoch 2/10\n",
      "1/1 [==============================] - 0s 4ms/step - loss: 6.3205 - accuracy: 0.4500\n",
      "Epoch 3/10\n",
      "1/1 [==============================] - 0s 3ms/step - loss: 6.3128 - accuracy: 0.4500\n",
      "Epoch 4/10\n",
      "1/1 [==============================] - 0s 3ms/step - loss: 6.3052 - accuracy: 0.4500\n",
      "Epoch 5/10\n",
      "1/1 [==============================] - 0s 2ms/step - loss: 6.2975 - accuracy: 0.4500\n",
      "Epoch 6/10\n",
      "1/1 [==============================] - 0s 6ms/step - loss: 6.2899 - accuracy: 0.4500\n",
      "Epoch 7/10\n",
      "1/1 [==============================] - 0s 3ms/step - loss: 6.2823 - accuracy: 0.4500\n",
      "Epoch 8/10\n",
      "1/1 [==============================] - 0s 3ms/step - loss: 6.2746 - accuracy: 0.4500\n",
      "Epoch 9/10\n",
      "1/1 [==============================] - 0s 3ms/step - loss: 6.2670 - accuracy: 0.4500\n",
      "Epoch 10/10\n",
      "1/1 [==============================] - 0s 2ms/step - loss: 6.2593 - accuracy: 0.4500\n",
      "[0 0 0 0 0 0 0 0 0 0 1 1 1 1 1 1 1 1 1 1]\n",
      "[5.0249982e-01 3.0076924e-01 1.5482157e-01 7.2365254e-02 3.2153606e-02\n",
      " 1.3950616e-02 5.9890449e-03 2.5593340e-03 1.0914803e-03 4.6512485e-04\n",
      " 1.9815564e-04 8.4394545e-05 3.5940546e-05 1.5305761e-05 6.5181566e-06\n",
      " 2.7758442e-06 1.1821303e-06 5.0342595e-07 2.1439068e-07 9.1301132e-08]\n"
     ]
    }
   ],
   "source": [
    "# 데이터를 넣어서 학습시키자!\n",
    "model.fit(x, y, epochs=10, verbose=1)\n",
    "\n",
    "# 결과 출력해줘!\n",
    "print(y)\n",
    "print(model.predict(x).reshape(-1,) )"
   ]
  },
  {
   "cell_type": "markdown",
   "metadata": {
    "id": "bqJtsDjtTz2n"
   },
   "source": [
    "## Now, Your turn!"
   ]
  },
  {
   "cell_type": "code",
   "execution_count": null,
   "metadata": {
    "id": "-ihUgWzFvkPL"
   },
   "outputs": [],
   "source": []
  },
  {
   "cell_type": "code",
   "execution_count": 14,
   "metadata": {
    "id": "IGSN3QAPTz2o"
   },
   "outputs": [
    {
     "name": "stdout",
     "output_type": "stream",
     "text": [
      "[ 0  1  2  3  4  5  6  7  8  9 10 11 12 13 14 15 16 17 18 19 20 21 22 23\n",
      " 24 25 26 27 28 29 30 31 32 33 34 35 36 37 38 39]\n",
      "[0 0 0 0 0 0 0 0 0 0 0 0 0 0 0 0 0 0 0 0 1 1 1 1 1 1 1 1 1 1 1 1 1 1 1 1 1\n",
      " 1 1 1]\n"
     ]
    }
   ],
   "source": [
    "x = np.array(range(0,40)) \n",
    "y = np.array([0]*20 + [1]*20)\n",
    "print(x)\n",
    "print(y)"
   ]
  },
  {
   "cell_type": "code",
   "execution_count": null,
   "metadata": {
    "id": "Ma61XgWYUMPi"
   },
   "outputs": [],
   "source": []
  },
  {
   "cell_type": "code",
   "execution_count": null,
   "metadata": {
    "id": "nniSdDU1UM29"
   },
   "outputs": [],
   "source": []
  },
  {
   "cell_type": "code",
   "execution_count": null,
   "metadata": {
    "id": "BNKQQzy5UNFm"
   },
   "outputs": [],
   "source": []
  }
 ],
 "metadata": {
  "colab": {
   "collapsed_sections": [],
   "name": "1_1_Quick_Keras_Functional.ipynb",
   "provenance": []
  },
  "kernelspec": {
   "display_name": "Python 3",
   "language": "python",
   "name": "python3"
  },
  "language_info": {
   "codemirror_mode": {
    "name": "ipython",
    "version": 3
   },
   "file_extension": ".py",
   "mimetype": "text/x-python",
   "name": "python",
   "nbconvert_exporter": "python",
   "pygments_lexer": "ipython3",
   "version": "3.8.8"
  }
 },
 "nbformat": 4,
 "nbformat_minor": 1
}

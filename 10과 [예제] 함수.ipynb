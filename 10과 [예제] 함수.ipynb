{
 "cells": [
  {
   "cell_type": "markdown",
   "metadata": {
    "id": "55D24zVfWxuS"
   },
   "source": [
    "# 10과 [예제] 함수"
   ]
  },
  {
   "cell_type": "markdown",
   "metadata": {
    "id": "VTYvHTMS42nj"
   },
   "source": [
    "* 우리가 이미 함수를 사용하였습니다.\n",
    "    * print()\n",
    "    * len()\n",
    "\n",
    "* 아래와 같은 형태의 함수를 메서드(method)라고 부릅니다.\n",
    "    * .append()\n",
    "    * .insert()\n",
    "    * 특히 메서드는 자료형(변수, 리스트, 딕셔너리…등)에 따라 달라집니다.\n",
    "\n",
    "* 이런 함수를 우리가 직접 만들 수 있습니다.  \n",
    "복잡하고 다양한 코드를 함수로 만들어 놓으면 코드가 단순하게 되고, \n",
    "사용하기도 편리합니다.\n"
   ]
  },
  {
   "cell_type": "markdown",
   "metadata": {
    "id": "VI2Pkj_55Daz"
   },
   "source": [
    "함수는 기본적으로 세가지로 구성됩니다.  \n",
    "\n",
    "① Input  \n",
    "- 입력 매개변수\n",
    "- 생략가능  \n",
    "\n",
    "② 처리\n",
    "- 코드들  \n",
    "\n",
    "③ Output\n",
    "- 실행 결과\n",
    "- 생략가능\n"
   ]
  },
  {
   "cell_type": "markdown",
   "metadata": {
    "id": "qLhQeDOM5Pqo"
   },
   "source": [
    "## 1) 함수 만들기 : 입력"
   ]
  },
  {
   "cell_type": "markdown",
   "metadata": {
    "id": "0UKFGvx85U_8"
   },
   "source": [
    "### 일단 무작정 함수를 만들어 봅시다."
   ]
  },
  {
   "cell_type": "code",
   "execution_count": 1,
   "metadata": {
    "id": "9iE61x3ckmF7"
   },
   "outputs": [
    {
     "name": "stdout",
     "output_type": "stream",
     "text": [
      "Hello, Python World~!\n"
     ]
    }
   ],
   "source": [
    "# 함수 만들기 : 입력 없이.\n",
    "def hello_world() :\n",
    "    print('Hello, Python World~!')\n",
    "# hello_world() < input없이 함수 실행\n",
    " # 함수 사용하기\n",
    "hello_world()"
   ]
  },
  {
   "cell_type": "code",
   "execution_count": 6,
   "metadata": {},
   "outputs": [
    {
     "name": "stdout",
     "output_type": "stream",
     "text": [
      "[1, 2, 3, 4, 2]\n",
      "(1, 2, 3, 4)\n"
     ]
    }
   ],
   "source": [
    "a = [1,2,3,4] + [2]\n",
    "print(a) \n",
    "#list는 중복값 저장가능\n",
    "b = (1,2,3,4)\n",
    "print(b)"
   ]
  },
  {
   "cell_type": "code",
   "execution_count": 7,
   "metadata": {},
   "outputs": [
    {
     "name": "stdout",
     "output_type": "stream",
     "text": [
      "key : a\n",
      "values : 32\n",
      "key : l1\n",
      "values : [1, 2, 3]\n",
      "key : d1\n",
      "values : {'a': 1, 'b': 5}\n"
     ]
    }
   ],
   "source": [
    "dict_a = {'a' :32 , 'l1':[1,2,3], 'd1':{'a':1,'b':5}}\n",
    "for k,v in dict_a.items() :\n",
    "    print('key :', k)\n",
    "    print('values :', v)"
   ]
  },
  {
   "cell_type": "markdown",
   "metadata": {
    "id": "cEI6rGhb5gIJ"
   },
   "source": [
    "### 입력매개변수를 추가해 봅시다."
   ]
  },
  {
   "cell_type": "code",
   "execution_count": 89,
   "metadata": {
    "id": "2XPnmntn5bq0"
   },
   "outputs": [
    {
     "name": "stdout",
     "output_type": "stream",
     "text": [
      "Hello Han, welcome to Python World~!\n",
      "Hello Han, welcome to Python World~!\n",
      "Hello Han, welcome to Python World~!\n"
     ]
    }
   ],
   "source": [
    "def hello_world(name) :\n",
    "    print('Hello '+ name + ', welcome to Python World~!')\n",
    "    print('Hello {}, welcome to Python World~!'.format(name)) # 위 문장과 똑같습니다.\n",
    "    print(f'Hello {name}, welcome to Python World~!')\n",
    "# 3가지 양식 숙지하기!!!\n",
    "hello_world('Han')\n"
   ]
  },
  {
   "cell_type": "code",
   "execution_count": 90,
   "metadata": {},
   "outputs": [
    {
     "ename": "TypeError",
     "evalue": "can only concatenate str (not \"int\") to str",
     "output_type": "error",
     "traceback": [
      "\u001b[1;31m---------------------------------------------------------------------------\u001b[0m",
      "\u001b[1;31mTypeError\u001b[0m                                 Traceback (most recent call last)",
      "\u001b[1;32m<ipython-input-90-cacc42b2f4e2>\u001b[0m in \u001b[0;36m<module>\u001b[1;34m\u001b[0m\n\u001b[1;32m----> 1\u001b[1;33m \u001b[0mhello_world\u001b[0m\u001b[1;33m(\u001b[0m\u001b[1;36m123\u001b[0m\u001b[1;33m)\u001b[0m\u001b[1;33m\u001b[0m\u001b[1;33m\u001b[0m\u001b[0m\n\u001b[0m\u001b[0;32m      2\u001b[0m \u001b[1;31m# print('Hello '+ name + ', welcome to Python World~!') < 이 문장에서 자료형 에러가 남\u001b[0m\u001b[1;33m\u001b[0m\u001b[1;33m\u001b[0m\u001b[1;33m\u001b[0m\u001b[0m\n",
      "\u001b[1;32m<ipython-input-89-369aae4c3823>\u001b[0m in \u001b[0;36mhello_world\u001b[1;34m(name)\u001b[0m\n\u001b[0;32m      1\u001b[0m \u001b[1;32mdef\u001b[0m \u001b[0mhello_world\u001b[0m\u001b[1;33m(\u001b[0m\u001b[0mname\u001b[0m\u001b[1;33m)\u001b[0m \u001b[1;33m:\u001b[0m\u001b[1;33m\u001b[0m\u001b[1;33m\u001b[0m\u001b[0m\n\u001b[1;32m----> 2\u001b[1;33m     \u001b[0mprint\u001b[0m\u001b[1;33m(\u001b[0m\u001b[1;34m'Hello '\u001b[0m\u001b[1;33m+\u001b[0m \u001b[0mname\u001b[0m \u001b[1;33m+\u001b[0m \u001b[1;34m', welcome to Python World~!'\u001b[0m\u001b[1;33m)\u001b[0m\u001b[1;33m\u001b[0m\u001b[1;33m\u001b[0m\u001b[0m\n\u001b[0m\u001b[0;32m      3\u001b[0m     \u001b[0mprint\u001b[0m\u001b[1;33m(\u001b[0m\u001b[1;34m'Hello {}, welcome to Python World~!'\u001b[0m\u001b[1;33m.\u001b[0m\u001b[0mformat\u001b[0m\u001b[1;33m(\u001b[0m\u001b[0mname\u001b[0m\u001b[1;33m)\u001b[0m\u001b[1;33m)\u001b[0m \u001b[1;31m# 위 문장과 똑같습니다.\u001b[0m\u001b[1;33m\u001b[0m\u001b[1;33m\u001b[0m\u001b[0m\n\u001b[0;32m      4\u001b[0m     \u001b[0mprint\u001b[0m\u001b[1;33m(\u001b[0m\u001b[1;34mf'Hello {name}, welcome to Python World~!'\u001b[0m\u001b[1;33m)\u001b[0m\u001b[1;33m\u001b[0m\u001b[1;33m\u001b[0m\u001b[0m\n\u001b[0;32m      5\u001b[0m \u001b[1;31m# 3가지 양식 숙지하기!!!\u001b[0m\u001b[1;33m\u001b[0m\u001b[1;33m\u001b[0m\u001b[1;33m\u001b[0m\u001b[0m\n",
      "\u001b[1;31mTypeError\u001b[0m: can only concatenate str (not \"int\") to str"
     ]
    }
   ],
   "source": [
    "hello_world(123)\n",
    "# print('Hello '+ name + ', welcome to Python World~!') < 이 문장에서 자료형 에러가 남"
   ]
  },
  {
   "cell_type": "markdown",
   "metadata": {
    "id": "J5CSb9JA5nEm"
   },
   "source": [
    "### 입력매개변수와 디폴트값"
   ]
  },
  {
   "cell_type": "code",
   "execution_count": 91,
   "metadata": {
    "id": "ihYvlNAa5nnl"
   },
   "outputs": [],
   "source": [
    "def hello(name, loud = 1) :\n",
    "    if loud == 1 :\n",
    "        print('HELLO ' + name + ' ~!!!')\n",
    "    else :\n",
    "        print('Hello ' + name + ' ~~~')"
   ]
  },
  {
   "cell_type": "markdown",
   "metadata": {
    "id": "ydrkSs5e7Hba"
   },
   "source": [
    "* 매개변수 이름 = 값 으로 지정해서 사용합니다.\n",
    "* 매개변수 이름으로 지정하면 순서를 바꿀 수 있습니다.\n",
    "* 매개변수 순서에 맞게 값을 넣으면 매개변수이름을 생략할 수 있습니다.\n"
   ]
  },
  {
   "cell_type": "code",
   "execution_count": 84,
   "metadata": {
    "id": "6y7HRny87HsU"
   },
   "outputs": [
    {
     "name": "stdout",
     "output_type": "stream",
     "text": [
      "HELLO Han ~!!!\n",
      "Hello Han ~~~\n",
      "Hello Han ~~~\n",
      "HELLO Han ~!!!\n"
     ]
    }
   ],
   "source": [
    "hello(name = 'Han', loud =1) # 매개변수 이름 = 값 으로 지정\n",
    "hello(loud = 0, name = 'Han') # 매개변수 이름으로 지정하면 순서를 바꿀수 있습니다.\n",
    "hello('Han', 0)  # 매개변수 순서에 맞게 값을 넣으면 매개변수이름을 생략할수 있습니다.\n",
    "hello('Han') # 함수 생성시 loud = 1 로 선언했으므로, 안쓰면 기본값 1이 입력 됩니다."
   ]
  },
  {
   "cell_type": "markdown",
   "metadata": {
    "id": "obL6Rxxu5-H6"
   },
   "source": [
    "### 입력매개변수 앞에 * 붙이면..."
   ]
  },
  {
   "cell_type": "code",
   "execution_count": 13,
   "metadata": {
    "id": "soV1Cc525-Za"
   },
   "outputs": [
    {
     "name": "stdout",
     "output_type": "stream",
     "text": [
      "(1, 2, 3, 4, 5, 6)\n"
     ]
    }
   ],
   "source": [
    "# 입력 값의 수를 정하지 않고, 사용할 때 들어오는 대로 받겠다.\n",
    "\n",
    "def numbers1(*nums) :\n",
    "    print(nums)\n",
    "\n",
    "numbers1(1,2,3,4,5,6)"
   ]
  },
  {
   "cell_type": "markdown",
   "metadata": {
    "id": "Hw1N-2406myd"
   },
   "source": [
    "### 실습 "
   ]
  },
  {
   "cell_type": "code",
   "execution_count": 19,
   "metadata": {
    "id": "HbPUxP306oPw"
   },
   "outputs": [
    {
     "data": {
      "text/plain": [
       "51"
      ]
     },
     "execution_count": 19,
     "metadata": {},
     "output_type": "execute_result"
    }
   ],
   "source": [
    "# 숫자들을 여러 개 받아(*입력변수) 각각 숫자를 제곱한 후 모두 합한 값을 반환하는 함\n",
    "# 아래 비어 있는 부분을 완성해 봅시다.\n",
    "\n",
    "def summ(*nums) :\n",
    "    total = 0\n",
    "    for i in nums :\n",
    "        total += i**2\n",
    "        \n",
    "    return(total)\n",
    "summ(1,4,3,5)\n"
   ]
  },
  {
   "cell_type": "markdown",
   "metadata": {
    "id": "pN96IJ7169bV"
   },
   "source": [
    "## 2) 함수만들기 : 출력"
   ]
  },
  {
   "cell_type": "markdown",
   "metadata": {
    "id": "7GSss8Nr7YAB"
   },
   "source": [
    "### print\n",
    "\n",
    "결과를 화면에 출력해~    \n",
    "\n",
    "(1) print는 출력 값을 보여주는 기능이며, 출력 값 생성을 위해 함수를 호출하게 된다.   \n",
    "(2) return은 정의된 함수에 대한 호출이 있을 때 값을 반환시켜주는 기능이다.\n"
   ]
  },
  {
   "cell_type": "code",
   "execution_count": 21,
   "metadata": {
    "id": "DoFIVXKwkmF-",
    "scrolled": true
   },
   "outputs": [
    {
     "name": "stdout",
     "output_type": "stream",
     "text": [
      "(1, 2, 3)\n",
      "(1, 2, 3)\n",
      "None\n"
     ]
    }
   ],
   "source": [
    "def numbers1(*nums) :\n",
    "    print(nums)\n",
    "\n",
    "numbers1(1,2,3)\n",
    "a1 = numbers1(1,2,3)\n",
    "print(a1) // none"
   ]
  },
  {
   "cell_type": "markdown",
   "metadata": {
    "id": "M5tIa6qb7c5q"
   },
   "source": [
    "### return\n",
    "\n",
    "* 결과 값을 output으로 내보내고 함수 종료시키기.\n",
    "* 결과 값을 받아서 사용하기 위해서는 반드시 return 을 써야 합니다.\n"
   ]
  },
  {
   "cell_type": "code",
   "execution_count": 22,
   "metadata": {
    "id": "YdaaBBf-7dLC"
   },
   "outputs": [
    {
     "name": "stdout",
     "output_type": "stream",
     "text": [
      "(1, 2, 3)\n",
      "(1, 2, 3)\n"
     ]
    }
   ],
   "source": [
    "def numbers2(*nums) :\n",
    "    return nums\n",
    "\n",
    "print(numbers2(1,2,3)) //1번째 결과\n",
    "a2 = numbers2(1,2,3)\n",
    "print(a2) //2번째 결과"
   ]
  },
  {
   "cell_type": "markdown",
   "metadata": {
    "id": "fUvhNd7o7g2D"
   },
   "source": [
    "### 여러개의 결과를 return"
   ]
  },
  {
   "cell_type": "code",
   "execution_count": 23,
   "metadata": {
    "id": "0E2FqC9M7hgk"
   },
   "outputs": [
    {
     "name": "stdout",
     "output_type": "stream",
     "text": [
      "15\n",
      "50\n"
     ]
    }
   ],
   "source": [
    "def calculate(a, b) :\n",
    "    summ = a + b\n",
    "    mult = a * b\n",
    "    return summ, mult\n",
    "\n",
    "r1, r2 = calculate(10, 5)\n",
    "print(r1)\n",
    "print(r2)\n"
   ]
  },
  {
   "cell_type": "markdown",
   "metadata": {
    "id": "KxPpJMlR7nyH"
   },
   "source": [
    "### 실습"
   ]
  },
  {
   "cell_type": "code",
   "execution_count": 24,
   "metadata": {
    "id": "Io5K-a-m7nn_"
   },
   "outputs": [
    {
     "name": "stdout",
     "output_type": "stream",
     "text": [
      "3\n",
      "2\n"
     ]
    }
   ],
   "source": [
    "# 두 숫자를 입력받아 몫과 나머지를 반환하는 함수를 작성해 봅시다.\n",
    "\n",
    "def divide2(a, b) :\n",
    "    r1 = a // b\n",
    "    r2 = a % b\n",
    "    return r1, r2\n",
    "\n",
    "\n",
    "r1, r2 = divide2(17, 5)\n",
    "print(r1)\n",
    "print(r2)\n"
   ]
  },
  {
   "cell_type": "markdown",
   "metadata": {
    "id": "H2HDxeK07qsQ"
   },
   "source": [
    "## 3) 함수만들기 : 예외처리"
   ]
  },
  {
   "cell_type": "markdown",
   "metadata": {
    "id": "4pwn7rr97wM9"
   },
   "source": [
    "### 발생할 수 있는 오류에 대한 사전 처리"
   ]
  },
  {
   "cell_type": "code",
   "execution_count": 25,
   "metadata": {
    "id": "fRywtVIkkmF_"
   },
   "outputs": [
    {
     "ename": "ZeroDivisionError",
     "evalue": "division by zero",
     "output_type": "error",
     "traceback": [
      "\u001b[1;31m---------------------------------------------------------------------------\u001b[0m",
      "\u001b[1;31mZeroDivisionError\u001b[0m                         Traceback (most recent call last)",
      "\u001b[1;32m<ipython-input-25-65d8586e0421>\u001b[0m in \u001b[0;36m<module>\u001b[1;34m\u001b[0m\n\u001b[0;32m      5\u001b[0m     \u001b[1;32mreturn\u001b[0m \u001b[0mresult\u001b[0m\u001b[1;33m\u001b[0m\u001b[1;33m\u001b[0m\u001b[0m\n\u001b[0;32m      6\u001b[0m \u001b[1;33m\u001b[0m\u001b[0m\n\u001b[1;32m----> 7\u001b[1;33m \u001b[0mdivide\u001b[0m\u001b[1;33m(\u001b[0m\u001b[1;36m10\u001b[0m\u001b[1;33m,\u001b[0m \u001b[1;36m0\u001b[0m\u001b[1;33m)\u001b[0m\u001b[1;33m\u001b[0m\u001b[1;33m\u001b[0m\u001b[0m\n\u001b[0m",
      "\u001b[1;32m<ipython-input-25-65d8586e0421>\u001b[0m in \u001b[0;36mdivide\u001b[1;34m(a, b)\u001b[0m\n\u001b[0;32m      2\u001b[0m \u001b[1;33m\u001b[0m\u001b[0m\n\u001b[0;32m      3\u001b[0m \u001b[1;32mdef\u001b[0m \u001b[0mdivide\u001b[0m\u001b[1;33m(\u001b[0m\u001b[0ma\u001b[0m\u001b[1;33m,\u001b[0m \u001b[0mb\u001b[0m\u001b[1;33m)\u001b[0m \u001b[1;33m:\u001b[0m\u001b[1;33m\u001b[0m\u001b[1;33m\u001b[0m\u001b[0m\n\u001b[1;32m----> 4\u001b[1;33m     \u001b[0mresult\u001b[0m \u001b[1;33m=\u001b[0m \u001b[0ma\u001b[0m \u001b[1;33m/\u001b[0m \u001b[0mb\u001b[0m\u001b[1;33m\u001b[0m\u001b[1;33m\u001b[0m\u001b[0m\n\u001b[0m\u001b[0;32m      5\u001b[0m     \u001b[1;32mreturn\u001b[0m \u001b[0mresult\u001b[0m\u001b[1;33m\u001b[0m\u001b[1;33m\u001b[0m\u001b[0m\n\u001b[0;32m      6\u001b[0m \u001b[1;33m\u001b[0m\u001b[0m\n",
      "\u001b[1;31mZeroDivisionError\u001b[0m: division by zero"
     ]
    }
   ],
   "source": [
    "# 아래코드는 어떤 오류가 발생할까요?\n",
    "\n",
    "def divide(a, b) : \n",
    "    result = a / b\n",
    "    return result\n",
    "\n",
    "divide(10, 0)"
   ]
  },
  {
   "cell_type": "markdown",
   "metadata": {
    "id": "PJOlv4p572Z4"
   },
   "source": [
    "### 입력값에 대한 확인"
   ]
  },
  {
   "cell_type": "code",
   "execution_count": null,
   "metadata": {
    "id": "1FxsyUZT72LQ"
   },
   "outputs": [],
   "source": [
    "# b는 0이 되면 안됩니다. 어떻게 수정하면 좋을까요?\n",
    "# 아래 코드를 완성해 봅시다.\n",
    "\n",
    "def divide(a, b) : \n",
    "    if b == 0 :\n",
    "        print('나누는 값이 0이 될 수 없습니다.')\n",
    "    else :\n",
    "        result = a / b\n",
    "        return result\n",
    "\n",
    "divide(10, 0)"
   ]
  },
  {
   "cell_type": "markdown",
   "metadata": {
    "id": "HIdUN29D779q"
   },
   "source": [
    "### 입력 데이터 타입을 확인하기"
   ]
  },
  {
   "cell_type": "code",
   "execution_count": 27,
   "metadata": {
    "id": "GBq1gj0F770a"
   },
   "outputs": [
    {
     "name": "stdout",
     "output_type": "stream",
     "text": [
      "True\n",
      "True\n",
      "True\n",
      "True\n",
      "True\n"
     ]
    }
   ],
   "source": [
    "# 데이터 타입 확인하기 ==, is\n",
    "a = 123\n",
    "print(type(a) == int)\n",
    "\n",
    "b = 'abc'\n",
    "print(type(b) is str)\n",
    "\n",
    "c = [1,2,3]\n",
    "print(type(c) is list)\n",
    "\n",
    "d = {'v':23}\n",
    "print(type(d) == dict)\n",
    "\n",
    "e = (1,2,3)\n",
    "print(type(e) == tuple)\n"
   ]
  },
  {
   "cell_type": "code",
   "execution_count": 74,
   "metadata": {
    "id": "Xso7mG3t8EQk"
   },
   "outputs": [
    {
     "data": {
      "text/plain": [
       "2.0"
      ]
     },
     "execution_count": 74,
     "metadata": {},
     "output_type": "execute_result"
    }
   ],
   "source": [
    "# a, b가 모두 int인지 확인하는 코드를 추가하세요.\n",
    "\n",
    "def divide(a, b) :\n",
    "    if b == 0 :\n",
    "        print('나누는 값이 0이 될 수 없습니다.')\n",
    "    elif  (type(a) == int) and (type(b) == int ): \n",
    "        result = a / b\n",
    "        return result\n",
    "    else :\n",
    "        print('입력값은 모두 숫자여야 합니다.')\n",
    "divide(10, 5)"
   ]
  },
  {
   "cell_type": "markdown",
   "metadata": {},
   "source": [
    "----"
   ]
  },
  {
   "cell_type": "markdown",
   "metadata": {
    "id": "57MXMkRP84PY"
   },
   "source": [
    "## 실습 답"
   ]
  },
  {
   "cell_type": "markdown",
   "metadata": {
    "id": "V1scS7WX88Yf"
   },
   "source": [
    "### 실습 : 함수 만들기 - 입력"
   ]
  },
  {
   "cell_type": "code",
   "execution_count": null,
   "metadata": {
    "id": "8d5pwK1B88Yf"
   },
   "outputs": [],
   "source": [
    "# 숫자들을 여러 개 받아(*입력변수) 각각 숫자를 제곱한 후 모두 합한 값을 반환하는 함\n",
    "# 아래 비어 있는 부분을 완성해 봅시다.\n",
    "\n",
    "def summ(*nums) :\n",
    "    total = 0\n",
    "    for n in nums :\n",
    "        total += n**2\n",
    "    \n",
    "    return(total)\n",
    "\n",
    "summ(1,4,3,5)\n"
   ]
  },
  {
   "cell_type": "markdown",
   "metadata": {
    "id": "4RhtmMVA9BJl"
   },
   "source": [
    "### 실습 : 함수 만들기 - 출력"
   ]
  },
  {
   "cell_type": "code",
   "execution_count": 65,
   "metadata": {
    "id": "_K_rU3Wf9Bar"
   },
   "outputs": [
    {
     "name": "stdout",
     "output_type": "stream",
     "text": [
      "3\n",
      "2\n"
     ]
    }
   ],
   "source": [
    "# 두 숫자를 입력받아 몫과 나머지를 반환하는 함수를 작성해 봅시다.\n",
    "\n",
    "def divide2(a, b) :\n",
    "    result = [a // b, a % b] \n",
    "    return result\n",
    "\n",
    "r1, r2 = divide2(17, 5)\n",
    "print(r1)\n",
    "print(r2)"
   ]
  },
  {
   "cell_type": "markdown",
   "metadata": {
    "id": "ePDMtcU59HqU"
   },
   "source": [
    "### 실습 : 함수 만들기 - 예외처리"
   ]
  },
  {
   "cell_type": "code",
   "execution_count": 66,
   "metadata": {
    "id": "NYjGkAeR9H9l"
   },
   "outputs": [
    {
     "data": {
      "text/plain": [
       "2.0"
      ]
     },
     "execution_count": 66,
     "metadata": {},
     "output_type": "execute_result"
    }
   ],
   "source": [
    "##### a, b가 모두 int인지 확인하는 코드를 추가하세요.\n",
    "\n",
    "def divide(a, b) :\n",
    "    if b == 0 :\n",
    "        print('나누는 값이 0이 될 수 없습니다.')\n",
    "    elif (type(a) is int) and (type(b) is int) : \n",
    "        result = a / b\n",
    "        return result\n",
    "    else :\n",
    "        print('두 입력값은 모두 숫자여야 합니다.')\n",
    "\n",
    "divide(10, 5)"
   ]
  }
 ],
 "metadata": {
  "colab": {
   "collapsed_sections": [],
   "name": "10과 [예제] 함수.ipynb",
   "provenance": [],
   "toc_visible": true
  },
  "kernelspec": {
   "display_name": "Python 3",
   "language": "python",
   "name": "python3"
  },
  "language_info": {
   "codemirror_mode": {
    "name": "ipython",
    "version": 3
   },
   "file_extension": ".py",
   "mimetype": "text/x-python",
   "name": "python",
   "nbconvert_exporter": "python",
   "pygments_lexer": "ipython3",
   "version": "3.8.8"
  }
 },
 "nbformat": 4,
 "nbformat_minor": 1
}
